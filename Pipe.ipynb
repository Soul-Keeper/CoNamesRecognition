{
 "cells": [
  {
   "cell_type": "code",
   "execution_count": 24,
   "id": "0ffd52fe",
   "metadata": {},
   "outputs": [],
   "source": [
    "import random\n",
    "import torch\n",
    "import numpy as np\n",
    "import pandas as pd\n",
    "\n",
    "from tqdm import tqdm\n",
    "from sentence_transformers import SentenceTransformer, util"
   ]
  },
  {
   "cell_type": "code",
   "execution_count": 36,
   "id": "9b82f74d",
   "metadata": {},
   "outputs": [],
   "source": [
    "#Выберем часть данных, которая будет играть роль тестовой БД, для проведения экспериментов\n",
    "random.seed(4)\n",
    "raw_data = pd.read_csv('train_normalised.csv', sep='\\t',  index_col='pair_id')\n",
    "\n",
    "# duplicate_idx = raw_data.index[raw_data['is_duplicate'] == 1].tolist()\n",
    "# random_idx = []\n",
    "\n",
    "# rand_count = 0\n",
    "# while rand_count < 400000:\n",
    "#     number = random.randint(1, 497819)\n",
    "#     if number not in duplicate_idx:\n",
    "#         random_idx.append(number)\n",
    "#         rand_count += 1\n",
    "\n",
    "# data_idx = duplicate_idx + random_idx\n",
    "# db_data = raw_data.loc[data_idx].copy()"
   ]
  },
  {
   "cell_type": "code",
   "execution_count": 7,
   "id": "ee4ad6f9",
   "metadata": {},
   "outputs": [],
   "source": [
    "model = SentenceTransformer('all-MiniLM-L6-v2', cache_folder='C:\\\\Users\\\\Nick\\\\Desktop\\\\ITMO\\\\DeepLearning\\\\NamesRecognition\\\\model_norm', device='cuda')"
   ]
  },
  {
   "cell_type": "code",
   "execution_count": 37,
   "id": "e21b7016",
   "metadata": {},
   "outputs": [],
   "source": [
    "name_1 = raw_data['name_1'].to_list()\n",
    "name_2 = raw_data['name_2'].to_list()\n",
    "\n",
    "all_names = name_1 + list(set(name_2) - set(name_1))\n",
    "all_names = np.unique(all_names)\n",
    "embeddings = model.encode(all_names)\n",
    "# for name in all_names:\n",
    "#     embeddings.append(model.encode(name))"
   ]
  },
  {
   "cell_type": "code",
   "execution_count": 9,
   "id": "cae42966",
   "metadata": {},
   "outputs": [
    {
     "name": "stderr",
     "output_type": "stream",
     "text": [
      "2139it [09:53,  3.60it/s]\n"
     ]
    }
   ],
   "source": [
    "duplicates = [[] for x in range(len(all_names))]\n",
    "for idx1, emb1 in tqdm(enumerate(embeddings)):\n",
    "    for idx2, emb2 in enumerate(embeddings):\n",
    "        if util.cos_sim(emb1, emb2) > 0.9:\n",
    "            duplicates[idx1].append(all_names[idx2])\n",
    "\n",
    "for idx, el in enumerate(duplicates):\n",
    "print(el)"
   ]
  },
  {
   "cell_type": "code",
   "execution_count": 38,
   "id": "7c5dd7a0",
   "metadata": {},
   "outputs": [
    {
     "name": "stderr",
     "output_type": "stream",
     "text": [
      "17307it [00:02, 6692.17it/s]"
     ]
    },
    {
     "name": "stdout",
     "output_type": "stream",
     "text": [
      "['bridgeston anada', 'bridgestone americ tire', 'bridgestone do br il industria e menrcio', 'bridgestone do br il industria e mercio', 'bridgestone do br il industria mercio', 'bridgestone firestone argentina ic', 'bridgestone firestone do br il', 'bridgestone firestone mexi d v', 'bridgestone firestone venezolana', 'bridgestone firestone venezolana c', 'bridgestone golf', 'bridgestone hosepower', 'bridgestone india', 'bridgestone india automotive', 'bridgestone india automotive products', 'bridgestone international group', 'bridgestone mexi d v.', 'bridgestone ncr', 'bridgestone neumaticos', 'bridgestone neumaticos monterrey d v', 'bridgestone research and velopment', 'bridgestone sta ric ociedad anoni', 'bridgestone sta rica', 'bridgestone stargard', 'bridgestone tire', 'bridgestone （huizhou）synthetic rubber', 'bridgestone（wuxi）tire.', 'pt bridgestone tire indonesia', 'shenyang bridgestone', 'thai bridgestone', 'warren plant bato bridgestone']\n"
     ]
    },
    {
     "name": "stderr",
     "output_type": "stream",
     "text": [
      "\n"
     ]
    }
   ],
   "source": [
    "duplicates = []\n",
    "test_name = 'bridgestone'\n",
    "#add normalization here\n",
    "test_emb = model.encode(test_name)\n",
    "for idx, emb in tqdm(enumerate(embeddings)):\n",
    "    if util.cos_sim(test_emb, emb) > 0.9:\n",
    "        duplicates.append(all_names[idx])\n",
    "        \n",
    "print(duplicates)"
   ]
  },
  {
   "cell_type": "code",
   "execution_count": null,
   "id": "058dc959",
   "metadata": {},
   "outputs": [],
   "source": []
  }
 ],
 "metadata": {
  "kernelspec": {
   "display_name": "Python 3 (ipykernel)",
   "language": "python",
   "name": "python3"
  },
  "language_info": {
   "codemirror_mode": {
    "name": "ipython",
    "version": 3
   },
   "file_extension": ".py",
   "mimetype": "text/x-python",
   "name": "python",
   "nbconvert_exporter": "python",
   "pygments_lexer": "ipython3",
   "version": "3.10.4"
  }
 },
 "nbformat": 4,
 "nbformat_minor": 5
}
