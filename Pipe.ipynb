{
 "cells": [
  {
   "cell_type": "code",
   "execution_count": 17,
   "id": "0ffd52fe",
   "metadata": {},
   "outputs": [
    {
     "ename": "ModuleNotFoundError",
     "evalue": "No module named 'cld3'",
     "output_type": "error",
     "traceback": [
      "\u001b[1;31m---------------------------------------------------------------------------\u001b[0m",
      "\u001b[1;31mModuleNotFoundError\u001b[0m                       Traceback (most recent call last)",
      "Cell \u001b[1;32mIn [17], line 8\u001b[0m\n\u001b[0;32m      5\u001b[0m \u001b[38;5;28;01mimport\u001b[39;00m \u001b[38;5;21;01mpandas\u001b[39;00m \u001b[38;5;28;01mas\u001b[39;00m \u001b[38;5;21;01mpd\u001b[39;00m\n\u001b[0;32m      7\u001b[0m \u001b[38;5;28;01mfrom\u001b[39;00m \u001b[38;5;21;01mtqdm\u001b[39;00m \u001b[38;5;28;01mimport\u001b[39;00m tqdm\n\u001b[1;32m----> 8\u001b[0m \u001b[38;5;28;01mfrom\u001b[39;00m \u001b[38;5;21;01mnormalization\u001b[39;00m \u001b[38;5;28;01mimport\u001b[39;00m Normalizer\n\u001b[0;32m      9\u001b[0m \u001b[38;5;28;01mfrom\u001b[39;00m \u001b[38;5;21;01msentence_transformers\u001b[39;00m \u001b[38;5;28;01mimport\u001b[39;00m SentenceTransformer, util\n",
      "File \u001b[1;32m~\\Desktop\\ITMO\\DeepLearning\\NamesRecognition\\CoNamesRecognition\\normalization.py:2\u001b[0m\n\u001b[0;32m      1\u001b[0m \u001b[38;5;28;01mimport\u001b[39;00m \u001b[38;5;21;01mre\u001b[39;00m\n\u001b[1;32m----> 2\u001b[0m \u001b[38;5;28;01mimport\u001b[39;00m \u001b[38;5;21;01mcld3\u001b[39;00m\n\u001b[0;32m      3\u001b[0m \u001b[38;5;28;01mfrom\u001b[39;00m \u001b[38;5;21;01mcamel_tools\u001b[39;00m\u001b[38;5;21;01m.\u001b[39;00m\u001b[38;5;21;01mutils\u001b[39;00m\u001b[38;5;21;01m.\u001b[39;00m\u001b[38;5;21;01mcharmap\u001b[39;00m \u001b[38;5;28;01mimport\u001b[39;00m CharMapper\n\u001b[0;32m      4\u001b[0m \u001b[38;5;28;01mfrom\u001b[39;00m \u001b[38;5;21;01mcleanco\u001b[39;00m \u001b[38;5;28;01mimport\u001b[39;00m basename\n",
      "\u001b[1;31mModuleNotFoundError\u001b[0m: No module named 'cld3'"
     ]
    }
   ],
   "source": [
    "import random\n",
    "import torch\n",
    "import pickle\n",
    "import numpy as np\n",
    "import pandas as pd\n",
    "\n",
    "from tqdm import tqdm\n",
    "from normalization import Normalizer\n",
    "from sentence_transformers import SentenceTransformer, util"
   ]
  },
  {
   "cell_type": "markdown",
   "id": "77e322c1",
   "metadata": {},
   "source": [
    "# Preparing step"
   ]
  },
  {
   "cell_type": "markdown",
   "id": "c5eadccb",
   "metadata": {},
   "source": [
    "On this step we are creating 'test data base', it contains all unique names from dataset"
   ]
  },
  {
   "cell_type": "code",
   "execution_count": null,
   "id": "9b82f74d",
   "metadata": {},
   "outputs": [],
   "source": [
    "raw_data = pd.read_csv('train_normalised.csv', sep='\\t',  index_col='pair_id')\n",
    "name_1 = raw_data['name_1'].to_list()\n",
    "name_2 = raw_data['name_2'].to_list()\n",
    "all_names = np.unique(name_1 + name_2)\n",
    "\n",
    "print(\"Number of unique names in DB: {}\".format(len(all_names)))"
   ]
  },
  {
   "cell_type": "markdown",
   "id": "cd29b5ef",
   "metadata": {},
   "source": [
    "# Pipe"
   ]
  },
  {
   "cell_type": "markdown",
   "id": "25e13e0a",
   "metadata": {},
   "source": [
    "After creating a DB we need to store it useful way, so later computations be fast. So we decided to compute embiddings for every name and save it"
   ]
  },
  {
   "cell_type": "code",
   "execution_count": null,
   "id": "ee4ad6f9",
   "metadata": {},
   "outputs": [],
   "source": [
    "model = SentenceTransformer('all-MiniLM-L6-v2', cache_folder='model')\n",
    "\n",
    "embeddings = model.encode(all_names)\n",
    "DB = [all_names, embeddings]\n",
    "with open('DB.pkl', 'wb') as f:\n",
    "    pickle.dump(DB, f)"
   ]
  },
  {
   "cell_type": "markdown",
   "id": "070f6ab5",
   "metadata": {},
   "source": [
    "Now we can open embeddings and compare new name with DB"
   ]
  },
  {
   "cell_type": "code",
   "execution_count": null,
   "id": "e21b7016",
   "metadata": {},
   "outputs": [],
   "source": [
    "with open('DB.pkl', 'rb') as f:\n",
    "    DB = pickle.load(f)\n",
    "\n",
    "all_names = DB[0]\n",
    "embeddings = DB[1]"
   ]
  },
  {
   "cell_type": "code",
   "execution_count": 16,
   "id": "7c5dd7a0",
   "metadata": {},
   "outputs": [
    {
     "name": "stderr",
     "output_type": "stream",
     "text": [
      "17307it [00:02, 7211.25it/s]"
     ]
    },
    {
     "name": "stdout",
     "output_type": "stream",
     "text": [
      "['bridgestone americ tire', 'bridgestone do br il industria e menrcio', 'bridgestone do br il industria e mercio', 'bridgestone do br il industria mercio', 'bridgestone firestone argentina ic', 'bridgestone firestone do br il', 'bridgestone firestone mexi d v', 'bridgestone firestone venezolana', 'bridgestone firestone venezolana c', 'bridgestone golf', 'bridgestone hosepower', 'bridgestone india', 'bridgestone india automotive', 'bridgestone india automotive products', 'bridgestone international group', 'bridgestone mexi d v.', 'bridgestone ncr', 'bridgestone neumaticos', 'bridgestone neumaticos monterrey d v', 'bridgestone research and velopment', 'bridgestone sta ric ociedad anoni', 'bridgestone sta rica', 'bridgestone stargard', 'bridgestone tire', 'bridgestone （huizhou）synthetic rubber', 'bridgestone（wuxi）tire.', 'pt bridgestone tire indonesia', 'shenyang bridgestone', 'thai bridgestone']\n"
     ]
    },
    {
     "name": "stderr",
     "output_type": "stream",
     "text": [
      "\n"
     ]
    }
   ],
   "source": [
    "duplicates = []\n",
    "test_name = 'bridgestone'\n",
    "#add normalization here\n",
    "test_emb = model.encode(test_name)\n",
    "for idx, emb in tqdm(enumerate(embeddings)):\n",
    "    if util.cos_sim(test_emb, emb) > 0.9:\n",
    "        duplicates.append(all_names[idx])\n",
    "        \n",
    "print(duplicates)"
   ]
  },
  {
   "cell_type": "markdown",
   "id": "4bd6a7e9",
   "metadata": {},
   "source": [
    "Lets pretend we've found a new name and want to add it to DB. The process will look smth like that"
   ]
  },
  {
   "cell_type": "code",
   "execution_count": null,
   "id": "549374b6",
   "metadata": {},
   "outputs": [],
   "source": [
    "new_name = \"ololoil\"\n",
    "\n",
    "#compute name embedding and add it to DB\n",
    "new_emb = model.encode(test_name)\n",
    "all_names.append(new_name)\n",
    "embeddings.append(new_emb)\n",
    "\n",
    "#save changed DB\n",
    "DB = [all_names, embeddings]\n",
    "with open('DB.pkl', 'wb') as f:\n",
    "    pickle.dump(DB, f)"
   ]
  }
 ],
 "metadata": {
  "kernelspec": {
   "display_name": "Python 3 (ipykernel)",
   "language": "python",
   "name": "python3"
  },
  "language_info": {
   "codemirror_mode": {
    "name": "ipython",
    "version": 3
   },
   "file_extension": ".py",
   "mimetype": "text/x-python",
   "name": "python",
   "nbconvert_exporter": "python",
   "pygments_lexer": "ipython3",
   "version": "3.10.6"
  }
 },
 "nbformat": 4,
 "nbformat_minor": 5
}
