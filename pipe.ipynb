{
 "cells": [
  {
   "cell_type": "code",
   "execution_count": null,
   "id": "0ffd52fe",
   "metadata": {},
   "outputs": [],
   "source": [
    "import random\n",
    "import pickle\n",
    "import numpy as np\n",
    "\n",
    "import torch\n",
    "import pandas as pd\n",
    "from tqdm import tqdm\n",
    "from sentence_transformers import SentenceTransformer, util\n",
    "\n",
    "from normalization import Normalizer"
   ]
  },
  {
   "cell_type": "markdown",
   "id": "77e322c1",
   "metadata": {},
   "source": [
    "# Preparing step"
   ]
  },
  {
   "cell_type": "markdown",
   "id": "c5eadccb",
   "metadata": {},
   "source": [
    "On this step we are creating 'test data base', it contains all unique names from dataset"
   ]
  },
  {
   "cell_type": "code",
   "execution_count": null,
   "id": "9b82f74d",
   "metadata": {},
   "outputs": [],
   "source": [
    "raw_data = pd.read_csv('data/train_normalised.csv', sep='\\t',  index_col='pair_id')\n",
    "name_1 = raw_data['name_1'].to_list() \n",
    "name_2 = raw_data['name_2'].to_list()\n",
    "all_names = np.unique(name_1 + name_2)\n",
    "\n",
    "print(\"Number of unique names in DB: {}\".format(len(all_names)))"
   ]
  },
  {
   "cell_type": "markdown",
   "id": "cd29b5ef",
   "metadata": {},
   "source": [
    "# Pipe"
   ]
  },
  {
   "cell_type": "markdown",
   "id": "25e13e0a",
   "metadata": {},
   "source": [
    "After creating a DB we need to store it useful way, so later computations be fast. So we decided to compute embiddings for every name and save it"
   ]
  },
  {
   "cell_type": "code",
   "execution_count": null,
   "id": "ee4ad6f9",
   "metadata": {},
   "outputs": [],
   "source": [
    "model = SentenceTransformer('all-MiniLM-L6-v2', cache_folder='model')\n",
    "\n",
    "embeddings = model.encode(all_names)\n",
    "DB = [all_names, embeddings]\n",
    "with open('DB.pkl', 'wb') as f:\n",
    "    pickle.dump(DB, f)"
   ]
  },
  {
   "cell_type": "markdown",
   "id": "070f6ab5",
   "metadata": {},
   "source": [
    "Now we can open embeddings and compare new name with DB"
   ]
  },
  {
   "cell_type": "code",
   "execution_count": null,
   "id": "e21b7016",
   "metadata": {},
   "outputs": [],
   "source": [
    "with open('DB.pkl', 'rb') as f:\n",
    "    DB = pickle.load(f)\n",
    "\n",
    "all_names = DB[0]\n",
    "embeddings = DB[1]"
   ]
  },
  {
   "cell_type": "markdown",
   "id": "6f0cb4f4",
   "metadata": {},
   "source": [
    "To find similar names we compute cosine distance between new name embedding and every embedding in DB.\n",
    "If it's more than threshold we assume it may be duplicate"
   ]
  },
  {
   "cell_type": "code",
   "execution_count": null,
   "id": "7c5dd7a0",
   "metadata": {},
   "outputs": [],
   "source": [
    "duplicates = []\n",
    "test_name = 'bridgestone'\n",
    "\n",
    "norm_name = normalizer.normalize(test_name)\n",
    "\n",
    "test_emb = model.encode(norm_name)\n",
    "for idx, emb in tqdm(enumerate(embeddings)):\n",
    "    if util.cos_sim(test_emb, emb) > 0.9:\n",
    "        duplicates.append(all_names[idx])\n",
    "        \n",
    "print(duplicates)"
   ]
  },
  {
   "cell_type": "markdown",
   "id": "4bd6a7e9",
   "metadata": {},
   "source": [
    "Lets pretend we've found a new name and want to add it to DB. The process will look smth like that"
   ]
  },
  {
   "cell_type": "code",
   "execution_count": null,
   "id": "549374b6",
   "metadata": {},
   "outputs": [],
   "source": [
    "normalizer = Normalizer()\n",
    "new_name = \"ololoil co.\"\n",
    "\n",
    "norm_name = normalizer.normalize(new_name)\n",
    "\n",
    "#compute name embedding and add it to DB\n",
    "new_emb = model.encode(test_name)\n",
    "all_names.append(new_name)\n",
    "embeddings.append(new_emb)\n",
    "\n",
    "#save changed DB\n",
    "DB = [all_names, embeddings]\n",
    "with open('DB.pkl', 'wb') as f:\n",
    "    pickle.dump(DB, f)"
   ]
  }
 ],
 "metadata": {
  "kernelspec": {
   "display_name": "Python 3 (ipykernel)",
   "language": "python",
   "name": "python3"
  },
  "language_info": {
   "codemirror_mode": {
    "name": "ipython",
    "version": 3
   },
   "file_extension": ".py",
   "mimetype": "text/x-python",
   "name": "python",
   "nbconvert_exporter": "python",
   "pygments_lexer": "ipython3",
   "version": "3.7.13"
  }
 },
 "nbformat": 4,
 "nbformat_minor": 5
}
